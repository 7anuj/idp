{
 "cells": [
  {
   "cell_type": "code",
   "execution_count": 13,
   "id": "8a3326b8-f86e-43f6-8cab-46cfca4fbdf0",
   "metadata": {
    "tags": []
   },
   "outputs": [
    {
     "name": "stdout",
     "output_type": "stream",
     "text": [
      "Filtered sentences saved to 'final_dataset.csv'\n"
     ]
    }
   ],
   "source": [
    "import pandas as pd\n",
    "\n",
    "# Load the first CSV (26k sentences)\n",
    "df_26k = pd.read_csv('97%_mbert_filtered_sentences.csv')  # Adjust the filename as needed\n",
    "sentences_26k = set(df_26k['Sentences'])  # Assuming the column with sentences is named 'sentence'\n",
    "\n",
    "# Load the second CSV (86k sentences with other fields)\n",
    "df_86k = pd.read_csv('only_telugu_content.v4.2.csv')  # Adjust the filename as needed\n",
    "\n",
    "# Filter rows from df_86k where the 'sentence' is in df_26k\n",
    "filtered_df = df_86k[df_86k['content'].isin(sentences_26k)]\n",
    "\n",
    "# Save the filtered DataFrame to a new CSV file\n",
    "filtered_df.to_csv('97%_final_dataset.csv', index=False)\n",
    "\n",
    "print(\"Filtered sentences saved to 'final_dataset.csv'\")\n"
   ]
  },
  {
   "cell_type": "code",
   "execution_count": null,
   "id": "33834d45-4a75-4e3e-a399-f64330efcc4b",
   "metadata": {},
   "outputs": [],
   "source": []
  }
 ],
 "metadata": {
  "kernelspec": {
   "display_name": "Python 3 (ipykernel)",
   "language": "python",
   "name": "python3"
  },
  "language_info": {
   "codemirror_mode": {
    "name": "ipython",
    "version": 3
   },
   "file_extension": ".py",
   "mimetype": "text/x-python",
   "name": "python",
   "nbconvert_exporter": "python",
   "pygments_lexer": "ipython3",
   "version": "3.11.4"
  }
 },
 "nbformat": 4,
 "nbformat_minor": 5
}
