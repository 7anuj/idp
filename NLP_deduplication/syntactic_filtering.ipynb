{
 "cells": [
  {
   "cell_type": "code",
   "execution_count": 38,
   "id": "a13e05c5-90eb-48fc-8915-6027c92338df",
   "metadata": {
    "tags": []
   },
   "outputs": [
    {
     "name": "stdout",
     "output_type": "stream",
     "text": [
      "Requirement already satisfied: datasketch in c:\\users\\tanuj\\anaconda3\\lib\\site-packages (1.6.5)\n",
      "Requirement already satisfied: numpy>=1.11 in c:\\users\\tanuj\\anaconda3\\lib\\site-packages (from datasketch) (1.24.3)\n",
      "Requirement already satisfied: scipy>=1.0.0 in c:\\users\\tanuj\\anaconda3\\lib\\site-packages (from datasketch) (1.10.1)\n",
      "Requirement already satisfied: tqdm in c:\\users\\tanuj\\anaconda3\\lib\\site-packages (4.65.0)\n",
      "Requirement already satisfied: colorama in c:\\users\\tanuj\\anaconda3\\lib\\site-packages (from tqdm) (0.4.6)\n"
     ]
    }
   ],
   "source": [
    "!pip install datasketch\n",
    "!pip install tqdm"
   ]
  },
  {
   "cell_type": "code",
   "execution_count": 40,
   "id": "e48f20eb-2cf6-467c-8b3c-62ea9b3f39fd",
   "metadata": {
    "tags": []
   },
   "outputs": [
    {
     "name": "stderr",
     "output_type": "stream",
     "text": [
      "[nltk_data] Downloading package punkt to\n",
      "[nltk_data]     C:\\Users\\Tanuj\\AppData\\Roaming\\nltk_data...\n",
      "[nltk_data]   Package punkt is already up-to-date!\n"
     ]
    },
    {
     "data": {
      "text/plain": [
       "True"
      ]
     },
     "execution_count": 40,
     "metadata": {},
     "output_type": "execute_result"
    }
   ],
   "source": [
    "import nltk\n",
    "from nltk.util import bigrams\n",
    "from datasketch import MinHash, MinHashLSH\n",
    "from joblib import Parallel, delayed\n",
    "import pandas as pd\n",
    "import numpy as np\n",
    "from tqdm import tqdm\n",
    "nltk.download('punkt')"
   ]
  },
  {
   "cell_type": "code",
   "execution_count": 48,
   "id": "1909ded1-20ad-4998-af61-fd26e7cafec8",
   "metadata": {
    "tags": []
   },
   "outputs": [
    {
     "name": "stdout",
     "output_type": "stream",
     "text": [
      "['లంచగొండి అధికారులు, రాజకీయ నాయకులు అందరూ దొంగలే. కేవలం కూలీలను పట్టుకొని కేసులు పెడతారు.'\n",
      " '❤ నువ్వు సూపర్ తల్లి. జై ఉషా జైజై బీఎస్పీ.'\n",
      " 'అయిన ఈయన కాదు కదా ఎంఎల్ఏ అభ్యర్థి.' ...\n",
      " 'హైదరాబాద్\\u200c: కాగా కిరణ్\\u200c తండ్రి, ప్రముఖ రచయిత అల్లం రాజ య్య శుక్రవారం రాత్రే హైదరాబాద్\\u200c నుంచి అమెరికాకు పయనమ య్యారు. భారత కాలమానం ప్రకారం ఆదివారం ఉదయానికి ఆయన లూసియానా స్టేట్\\u200c వర్సిటీ చేరుకోవచ్చు. ఆ తర్వాతే కిరణ్\\u200c మృతదేహాన్ని భారత్\\u200c తీసుకువెళ్లాలా? లేదా? తదితర అంశాలపై నిర్ణయం తీసుకునే అవకాశం ఉంది. చంద్రశేఖర్\\u200cరెడ్డి మృతదేహాన్ని మాత్రం భారత్\\u200cకు రప్పించాలని ఆయన కుటుంబ సభ్యులు కోరు కుంటున్నారు.'\n",
      " 'నువ్వు నీ పార్టీలోనీ మంత్రులకు ఉన్న నోటిదూల ప్రధాన కారణం పేరుకి మాత్రమే మంత్రులు కానీ మీ శాఖల మీద కనీస అవగాహన కూడా ఉండదు చట్టసభలలో ఎలా ప్రవర్తించాలో తెలీదు రేప్ లు జరిగితే అనుకోకుండా చేశారని చెప్తారు మేమేం ఎస్సీ ఎస్టీలు కాదు పక్కన కూర్చోవచ్చు అన్నది నువ్వే కదా రిజల్ట్ ముందు రోజు వరకూ కూడా మీ నోట్లో నుంచి బూతులు తప్ప ఇంకేం వచ్చేవి. ఇప్పుడేమో అమాయకంగా ఎందుకిలా జరిగిందో. నువ్వు ఓడిపోయినందుకు నీ పార్టీ వాళ్ళు, నగరి నియోజకవర్గ ప్రజలు చాలా సంతోషంగా ఉన్నారు😂'\n",
      " '<NUMBER> ఎప్రల్ మాసంలో కలకత్తాలో రక్షక బటులకీ, ప్రజలకీ మద్య హింసాత్మకమైన కొట్లాటలు జరిగాయి. <NUMBER>-<NUMBER> మధ్యకాలంలో సత్యాగ్రహం కారణంగా సుమారు లక్షమంది ప్రజలు కారాగారం పాలైనారు. పెష్వార్ లోని కిస్సా ఖవాని బజారు మారణకాండలో అనామక ప్రజలపై కాల్పులు జరిగాయి. ఈ సంఘటనతో అప్పుడే క్రొత్తగా పుట్టిన ఖుదై ఖిద్మత్గర్ ఉధ్యమ స్థాపకుడు ఖాన్ అబ్దుల్ ఘఫార్ ఖాన్ సరిహద్దు గాంధీగా దేశ తెరపైకి వచ్చాడు. <NUMBER> లో గాధీ కారాగారంలో ఉండగా కాంగ్రెస్ కు పాతినిధ్యంలేని మెదటీ రౌవుండ్ టేబుల్ సమావేశం లండన్ లో జరిగింది. సత్యాగ్రహం కారణంగా ఎదురైన ఆర్ధిక విషమ పరిస్థితుల కారణంగా కాంగ్రెస్ పై నిషేధం తొలగింపబడినది. గాధీ తో సహా కాంగ్రెస్ కార్యనిర్వాహణ సంఘం పతినిధులు జనవరి <NUMBER> లో విడుదలైనారు.']\n"
     ]
    }
   ],
   "source": [
    " df = pd.read_csv(\"only_telugu_content.v4.2.csv\")\n",
    " sentences = np.array(df['content'])\n",
    " print(sentences)\n"
   ]
  },
  {
   "cell_type": "code",
   "execution_count": 50,
   "id": "de548201-e752-4bfe-ab4a-b466747ebb8b",
   "metadata": {
    "tags": []
   },
   "outputs": [
    {
     "data": {
      "text/plain": [
       "(87549, 4)"
      ]
     },
     "execution_count": 50,
     "metadata": {},
     "output_type": "execute_result"
    }
   ],
   "source": [
    "df.shape"
   ]
  },
  {
   "cell_type": "code",
   "execution_count": 52,
   "id": "71a4af99-c01a-4f5e-a264-2f5972085928",
   "metadata": {
    "tags": []
   },
   "outputs": [
    {
     "name": "stderr",
     "output_type": "stream",
     "text": [
      "100%|██████████████████████████████████████████████████████████████████████████| 87549/87549 [1:22:28<00:00, 17.69it/s]\n"
     ]
    },
    {
     "name": "stdout",
     "output_type": "stream",
     "text": [
      "Number of unique sentences (after removing near duplicates): 86519\n"
     ]
    }
   ],
   "source": [
    "# Function to generate bigrams\n",
    "def generate_bigrams(sentence):\n",
    "    tokens = nltk.word_tokenize(sentence)\n",
    "    return set(bigrams(tokens))\n",
    "\n",
    "# Function to compute Jaccard similarity between two sets of bigrams\n",
    "def jaccard_similarity(bigrams1, bigrams2):\n",
    "    intersection = len(bigrams1.intersection(bigrams2))\n",
    "    union = len(bigrams1.union(bigrams2))\n",
    "    return intersection / union if union != 0 else 0\n",
    "\n",
    "# Remove near-duplicates based on Jaccard similarity\n",
    "def remove_near_duplicates(sentences, threshold=0.75):\n",
    "    unique_sentences = []\n",
    "    bigrams_list = [generate_bigrams(sentence) for sentence in sentences]\n",
    "    marked_for_removal = set()\n",
    "\n",
    "    for i in tqdm(range(len(sentences))):\n",
    "        if i in marked_for_removal:\n",
    "            continue\n",
    "        unique_sentences.append(sentences[i])\n",
    "        for j in range(i + 1, len(sentences)):\n",
    "            if j in marked_for_removal:\n",
    "                continue\n",
    "            similarity = jaccard_similarity(bigrams_list[i], bigrams_list[j])\n",
    "            if similarity >= threshold:\n",
    "                marked_for_removal.add(j)\n",
    "\n",
    "    return unique_sentences\n",
    "\n",
    "# Filter the near-duplicate sentences\n",
    "unique_sentences = remove_near_duplicates(sentences)\n",
    "\n",
    "# Display the number of unique sentences left\n",
    "print(f\"Number of unique sentences (after removing near duplicates): {len(unique_sentences)}\")"
   ]
  },
  {
   "cell_type": "code",
   "execution_count": 57,
   "id": "9f876d29-9956-4413-a14b-aee74068dfab",
   "metadata": {
    "tags": []
   },
   "outputs": [],
   "source": [
    "df = pd.DataFrame(unique_sentences, columns=[\"Sentences\"])\n",
    "\n",
    "# Save the DataFrame to a CSV file\n",
    "df.to_csv(\"syntactic_filtered_sentences.csv\", index=False, encoding='utf-8')"
   ]
  },
  {
   "cell_type": "code",
   "execution_count": null,
   "id": "db9ea303-7a85-4ddd-aff6-9882572d6f78",
   "metadata": {},
   "outputs": [],
   "source": []
  },
  {
   "cell_type": "code",
   "execution_count": null,
   "id": "e1546dba-f8d7-4129-8f25-a28caea387d9",
   "metadata": {},
   "outputs": [],
   "source": []
  }
 ],
 "metadata": {
  "kernelspec": {
   "display_name": "Python 3 (ipykernel)",
   "language": "python",
   "name": "python3"
  },
  "language_info": {
   "codemirror_mode": {
    "name": "ipython",
    "version": 3
   },
   "file_extension": ".py",
   "mimetype": "text/x-python",
   "name": "python",
   "nbconvert_exporter": "python",
   "pygments_lexer": "ipython3",
   "version": "3.11.4"
  }
 },
 "nbformat": 4,
 "nbformat_minor": 5
}
